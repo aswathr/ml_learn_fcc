{
 "cells": [
  {
   "cell_type": "code",
   "execution_count": null,
   "metadata": {},
   "outputs": [],
   "source": []
  },
  {
   "cell_type": "markdown",
   "metadata": {},
   "source": [
    "# Linear regression\n",
    "\n",
    "Model trying to predict value of a variable($y_i$) using a linear relationship with another variable($x$) or variables<br>\n",
    "$$\\hat y_i = b_0 + b_1x$$\n",
    "where $\\hat y_i$ is the predicted value<br>\n",
    "\n",
    "residual: absolute of (predicted value minus the actual value) $|\\hat y_i - y_i|$<br><br>\n",
    "We're trying to minimise sum of the residuals $\\min(\\sum_i|\\hat y_i - y_i|)$<br>\n",
    "We could also attribute a squared residual penalty for a model and try to minimise that $\\min(\\sum_i(\\hat y_i - y_i)^2)$<br>\n",
    "\n",
    "simple linear regression: $y_i = b_0 + b_1x$<br>\n",
    "multiple linear regression: $y_i = b_0 + b_1x_0 + b_2x_1 + ... b_nx_{n-1}$<br>\n",
    "\n",
    "Assumptions for modelling with linear regression:\n",
    " - linearity: (y should be linearly distributed w.r.t x)\n",
    " - independence: there is no relationship between y and residuals\n",
    " - normality: the residuals plot w.r.t. x must be normally distributed\n",
    " - homoscedasticity: the residual plot w.r.t. x must have equal variances across different sections\n",
    "\n",
    "### Evaluating linear regression\n",
    "\n",
    "#### Mean absolute error\n",
    "$\\dfrac{\\sum_i^n|\\hat y_i - y_i|}{n}$<br>\n",
    "\n",
    "#### Mean squared error\n",
    "$\\dfrac{\\sum_i^n(\\hat y_i - y_i)^2}{n}$<br>\n",
    "\n",
    "#### Root Mean squared error\n",
    "$\\sqrt{\\dfrac{\\sum_i^n(\\hat y_i - y_i)^2}{n}}$<br>\n",
    "\n",
    "#### $R^2$ - Coff. of determination\n",
    "$R^2 = 1 - \\dfrac{RSS}{TSS}$<br>\n",
    "where RSS is the sum of squared residuals<br>\n",
    "$RSS = \\sum_{i = 1}^{n}(y_i - \\hat y_i)^2$\n",
    "and TSS is the total sum of squares<br>\n",
    "$TSS = \\sum_{i = 1}^{n}(y_i - \\bar y_i)^2$, where $\\bar y_i$ is the mean of $y_i$s"
   ]
  },
  {
   "cell_type": "code",
   "execution_count": null,
   "metadata": {},
   "outputs": [],
   "source": []
  },
  {
   "cell_type": "markdown",
   "metadata": {},
   "source": []
  }
 ],
 "metadata": {
  "kernelspec": {
   "display_name": "base",
   "language": "python",
   "name": "python3"
  },
  "language_info": {
   "name": "python",
   "version": "3.11.5"
  }
 },
 "nbformat": 4,
 "nbformat_minor": 2
}
